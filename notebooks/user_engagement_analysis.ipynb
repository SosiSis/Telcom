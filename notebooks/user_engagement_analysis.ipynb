{
 "cells": [
  {
   "cell_type": "code",
   "execution_count": 1,
   "metadata": {},
   "outputs": [],
   "source": [
    "import pandas as pd\n",
    "from sklearn.preprocessing import MinMaxScaler\n",
    "from sklearn.cluster import KMeans\n",
    "import matplotlib.pyplot as plt"
   ]
  },
  {
   "cell_type": "code",
   "execution_count": null,
   "metadata": {},
   "outputs": [],
   "source": [
    "\n",
    "import sys\n",
    "import os\n",
    "sys.path.append(os.path.abspath('../scripts'))"
   ]
  },
  {
   "cell_type": "code",
   "execution_count": null,
   "metadata": {},
   "outputs": [],
   "source": [
    "from load_data import load_data_from_postgres\n",
    "\n"
   ]
  },
  {
   "cell_type": "code",
   "execution_count": 7,
   "metadata": {},
   "outputs": [
    {
     "name": "stderr",
     "output_type": "stream",
     "text": [
      "c:\\Users\\HP\\Desktop\\Challenges\\Telcom\\scripts\\load_data.py:38: UserWarning: pandas only supports SQLAlchemy connectable (engine/connection) or database string URI or sqlite3 DBAPI2 connection. Other DBAPI2 objects are not tested. Please consider using SQLAlchemy.\n",
      "  df = pd.read_sql_query(query, connection)\n"
     ]
    },
    {
     "name": "stdout",
     "output_type": "stream",
     "text": [
      "Successfully loaded the data\n"
     ]
    }
   ],
   "source": [
    "# Define your SQL query\n",
    "query = \"SELECT * FROM xdr_data;\"  # Replace with your actual table name\n",
    "\n",
    "# Load data from PostgreSQL\n",
    "data = load_data_from_postgres(query)\n",
    "\n",
    "# Display the first few rows of the dataframe\n",
    "if data is not None:\n",
    "    print(\"Successfully loaded the data\")\n",
    "else:\n",
    "    print(\"Failed to load data.\")"
   ]
  },
  {
   "cell_type": "code",
   "execution_count": 9,
   "metadata": {},
   "outputs": [],
   "source": [
    "# Aggregate metrics per user\n",
    "user_metrics = data.groupby('MSISDN/Number').agg({\n",
    "    'Dur. (ms)': 'sum',\n",
    "    'Total DL (Bytes)': 'sum',\n",
    "    'Total UL (Bytes)': 'sum'\n",
    "}).reset_index()"
   ]
  },
  {
   "cell_type": "code",
   "execution_count": null,
   "metadata": {},
   "outputs": [],
   "source": [
    "# Add session frequency per user\n",
    "user_metrics = data.groupby('MSISDN/Number').agg({\n",
    "    'Bearer Id': 'count',  # Session frequency\n",
    "    'Dur. (ms)': 'sum',    # Total session duration\n",
    "    'Total DL (Bytes)': 'sum',\n",
    "    'Total UL (Bytes)': 'sum'\n",
    "}).reset_index()\n",
    "user_metrics.rename(columns={'Bearer Id': 'Session Frequency', 'Dur. (ms)': 'Session Duration'}, inplace=True)\n",
    "user_metrics['Total Traffic'] = user_metrics['Total DL (Bytes)'] + user_metrics['Total UL (Bytes)']\n",
    "\n",
    "# Top 10 customers per engagement metric\n",
    "print(\"Top 10 Customers by Session Frequency:\")\n",
    "print(user_metrics.nlargest(10, 'Session Frequency')[['MSISDN/Number', 'Session Frequency']])\n",
    "print(\"\\nTop 10 Customers by Session Duration:\")\n",
    "print(user_metrics.nlargest(10, 'Session Duration')[['MSISDN/Number', 'Session Duration']])\n",
    "print(\"\\nTop 10 Customers by Total Traffic:\")\n",
    "print(user_metrics.nlargest(10, 'Total Traffic')[['MSISDN/Number', 'Total Traffic']])"
   ]
  },
  {
   "cell_type": "code",
   "execution_count": null,
   "metadata": {},
   "outputs": [],
   "source": [
    "# Normalize all engagement metrics\n",
    "from sklearn.preprocessing import MinMaxScaler\n",
    "scaler = MinMaxScaler()\n",
    "user_metrics[['Session Frequency', 'Session Duration', 'Total Traffic']] = scaler.fit_transform(\n",
    "    user_metrics[['Session Frequency', 'Session Duration', 'Total Traffic']]\n",
    ")\n",
    "\n",
    "# K-means clustering (k=3)\n",
    "kmeans = KMeans(n_clusters=3, random_state=42)\n",
    "user_metrics['Cluster'] = kmeans.fit_predict(user_metrics[['Session Frequency', 'Session Duration', 'Total Traffic']])\n",
    "\n",
    "# Cluster summary statistics\n",
    "cluster_summary = user_metrics.groupby('Cluster').agg({\n",
    "    'Session Frequency': ['min', 'max', 'mean', 'sum'],\n",
    "    'Session Duration': ['min', 'max', 'mean', 'sum'],\n",
    "    'Total Traffic': ['min', 'max', 'mean', 'sum']\n",
    "})\n",
    "print(\"\\nCluster Summary Statistics:\")\n",
    "print(cluster_summary)\n",
    "\n",
    "# Visualize clusters\n",
    "plt.figure(figsize=(8,6))\n",
    "for c in range(3):\n",
    "    subset = user_metrics[user_metrics['Cluster'] == c]\n",
    "    plt.scatter(subset['Session Frequency'], subset['Total Traffic'], label=f'Cluster {c}', alpha=0.5)\n",
    "plt.xlabel('Session Frequency (normalized)')\n",
    "plt.ylabel('Total Traffic (normalized)')\n",
    "plt.title('User Engagement Clusters (K=3)')\n",
    "plt.legend()\n",
    "plt.show()"
   ]
  },
  {
   "cell_type": "code",
   "execution_count": null,
   "metadata": {},
   "outputs": [],
   "source": [
    "# Aggregate user total traffic per application and derive top 10 most engaged users per application\n",
    "app_names = ['Social Media', 'Google', 'Email', 'Youtube', 'Netflix', 'Gaming', 'Other']\n",
    "app_dl_cols = [f'{app} DL (Bytes)' for app in app_names]\n",
    "app_ul_cols = [f'{app} UL (Bytes)' for app in app_names]\n",
    "\n",
    "for app, dl_col, ul_col in zip(app_names, app_dl_cols, app_ul_cols):\n",
    "    if dl_col in data.columns and ul_col in data.columns:\n",
    "        data[f'{app}_Total'] = data[dl_col] + data[ul_col]\n",
    "        app_user_agg = data.groupby('MSISDN/Number')[f'{app}_Total'].sum().reset_index()\n",
    "        top10 = app_user_agg.nlargest(10, f'{app}_Total')\n",
    "        print(f\"\\nTop 10 Most Engaged Users for {app}:\")\n",
    "        print(top10)\n",
    "\n",
    "# Plot top 3 most used applications\n",
    "app_totals = {app: data[f'{app}_Total'].sum() for app in app_names if f'{app}_Total' in data.columns}\n",
    "top3_apps = sorted(app_totals.items(), key=lambda x: x[1], reverse=True)[:3]\n",
    "\n",
    "plt.figure(figsize=(8,6))\n",
    "plt.bar([x[0] for x in top3_apps], [x[1]/1e9 for x in top3_apps], color=['#1f77b4', '#ff7f0e', '#2ca02c'])\n",
    "plt.title('Top 3 Most Used Applications (Total Traffic in GB)')\n",
    "plt.ylabel('Total Traffic (GB)')\n",
    "plt.xlabel('Application')\n",
    "plt.show()"
   ]
  },
  {
   "cell_type": "code",
   "execution_count": null,
   "metadata": {},
   "outputs": [],
   "source": [
    "# Elbow method for optimal k\n",
    "wcss = []\n",
    "X = user_metrics[['Session Frequency', 'Session Duration', 'Total Traffic']]\n",
    "for k in range(1, 11):\n",
    "    kmeans = KMeans(n_clusters=k, random_state=42)\n",
    "    kmeans.fit(X)\n",
    "    wcss.append(kmeans.inertia_)\n",
    "plt.figure(figsize=(8,6))\n",
    "plt.plot(range(1, 11), wcss, marker='o')\n",
    "plt.title('Elbow Method for Optimal k')\n",
    "plt.xlabel('Number of Clusters')\n",
    "plt.ylabel('WCSS')\n",
    "plt.show()\n",
    "\n",
    "print(\"\\nInterpretation: The optimal k is where the WCSS curve shows a clear 'elbow'. Typically, this is at k=3 for telecom engagement data, but check the plot for confirmation.\")"
   ]
  },
  {
   "cell_type": "code",
   "execution_count": 10,
   "metadata": {},
   "outputs": [],
   "source": [
    "# Add engagement metrics\n",
    "user_metrics['Total Traffic'] = user_metrics['Total DL (Bytes)'] + user_metrics['Total UL (Bytes)']\n",
    "user_metrics.rename(columns={'Dur. (ms)': 'Session Duration'}, inplace=True)\n"
   ]
  },
  {
   "cell_type": "code",
   "execution_count": 11,
   "metadata": {},
   "outputs": [],
   "source": [
    "# Normalize metrics\n",
    "scaler = MinMaxScaler()\n",
    "user_metrics[['Session Duration', 'Total Traffic']] = scaler.fit_transform(user_metrics[['Session Duration', 'Total Traffic']])"
   ]
  },
  {
   "cell_type": "code",
   "execution_count": 12,
   "metadata": {},
   "outputs": [],
   "source": [
    "# k-means clustering\n",
    "kmeans = KMeans(n_clusters=3, random_state=42)\n",
    "user_metrics['Cluster'] = kmeans.fit_predict(user_metrics[['Session Duration', 'Total Traffic']])"
   ]
  },
  {
   "cell_type": "code",
   "execution_count": 13,
   "metadata": {},
   "outputs": [
    {
     "data": {
      "image/png": "[encoded data removed]",
      "text/plain": [
       "<Figure size 640x480 with 1 Axes>"
      ]
     },
     "metadata": {},
     "output_type": "display_data"
    }
   ],
   "source": [
    "# Elbow method\n",
    "wcss = []\n",
    "for k in range(1, 11):\n",
    "    kmeans = KMeans(n_clusters=k, random_state=42)\n",
    "    kmeans.fit(user_metrics[['Session Duration', 'Total Traffic']])\n",
    "    wcss.append(kmeans.inertia_)\n",
    "\n",
    "plt.plot(range(1, 11), wcss)\n",
    "plt.title('Elbow Method')\n",
    "plt.xlabel('Number of Clusters')\n",
    "plt.ylabel('WCSS')\n",
    "plt.show()"
   ]
  },
  {
   "cell_type": "code",
   "execution_count": null,
   "metadata": {},
   "outputs": [],
   "source": []
  }
 ],
 "metadata": {
  "kernelspec": {
   "display_name": "week2",
   "language": "python",
   "name": "python3"
  },
  "language_info": {
   "codemirror_mode": {
    "name": "ipython",
    "version": 3
   },
   "file_extension": ".py",
   "mimetype": "text/x-python",
   "name": "python",
   "nbconvert_exporter": "python",
   "pygments_lexer": "ipython3",
   "version": "3.12.8"
  }
 },
 "nbformat": 4,
 "nbformat_minor": 2
}
